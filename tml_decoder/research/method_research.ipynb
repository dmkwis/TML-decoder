{
 "cells": [
  {
   "cell_type": "code",
   "execution_count": 1,
   "metadata": {},
   "outputs": [
    {
     "name": "stderr",
     "output_type": "stream",
     "text": [
      "/home/dominik/Desktop/TML-decoder/env/lib/python3.11/site-packages/tqdm/auto.py:21: TqdmWarning: IProgress not found. Please update jupyter and ipywidgets. See https://ipywidgets.readthedocs.io/en/stable/user_install.html\n",
      "  from .autonotebook import tqdm as notebook_tqdm\n"
     ]
    }
   ],
   "source": [
    "from sentence_transformers import SentenceTransformer, util\n",
    "encoder = SentenceTransformer(\"sentence-transformers/gtr-t5-base\")"
   ]
  },
  {
   "cell_type": "code",
   "execution_count": 2,
   "metadata": {},
   "outputs": [],
   "source": [
    "tokenizer = encoder.tokenizer\n",
    "vocab = tokenizer.vocab"
   ]
  },
  {
   "cell_type": "code",
   "execution_count": 4,
   "metadata": {},
   "outputs": [
    {
     "data": {
      "text/plain": [
       "100"
      ]
     },
     "execution_count": 4,
     "metadata": {},
     "output_type": "execute_result"
    }
   ],
   "source": [
    "extra_tokens = [k for k,v in vocab.items() if \"<extra_id_\" in k]\n",
    "len(extra_tokens)\n"
   ]
  },
  {
   "cell_type": "code",
   "execution_count": 5,
   "metadata": {},
   "outputs": [],
   "source": [
    "base_tokens = extra_tokens[:64]"
   ]
  },
  {
   "cell_type": "code",
   "execution_count": 9,
   "metadata": {},
   "outputs": [
    {
     "name": "stdout",
     "output_type": "stream",
     "text": [
      "Pretty printing has been turned OFF\n"
     ]
    }
   ],
   "source": [
    "%pprint"
   ]
  },
  {
   "cell_type": "code",
   "execution_count": 10,
   "metadata": {},
   "outputs": [
    {
     "name": "stdout",
     "output_type": "stream",
     "text": [
      "['<extra_id_97>', '<extra_id_5>', '<extra_id_28>', '<extra_id_52>', '<extra_id_56>', '<extra_id_46>', '<extra_id_41>', '<extra_id_9>', '<extra_id_89>', '<extra_id_25>', '<extra_id_40>', '<extra_id_99>', '<extra_id_80>', '<extra_id_57>', '<extra_id_54>', '<extra_id_0>', '<extra_id_8>', '<extra_id_21>', '<extra_id_37>', '<extra_id_11>', '<extra_id_32>', '<extra_id_67>', '<extra_id_12>', '<extra_id_73>', '<extra_id_34>', '<extra_id_98>', '<extra_id_22>', '<extra_id_81>', '<extra_id_51>', '<extra_id_58>', '<extra_id_14>', '<extra_id_61>', '<extra_id_35>', '<extra_id_85>', '<extra_id_65>', '<extra_id_95>', '<extra_id_18>', '<extra_id_38>', '<extra_id_33>', '<extra_id_48>', '<extra_id_82>', '<extra_id_69>', '<extra_id_27>', '<extra_id_6>', '<extra_id_86>', '<extra_id_93>', '<extra_id_63>', '<extra_id_10>', '<extra_id_88>', '<extra_id_59>', '<extra_id_17>', '<extra_id_50>', '<extra_id_2>', '<extra_id_23>', '<extra_id_31>', '<extra_id_29>', '<extra_id_68>', '<extra_id_72>', '<extra_id_39>', '<extra_id_77>', '<extra_id_42>', '<extra_id_91>', '<extra_id_62>', '<extra_id_60>']\n"
     ]
    }
   ],
   "source": [
    "print(base_tokens)"
   ]
  },
  {
   "cell_type": "code",
   "execution_count": 11,
   "metadata": {},
   "outputs": [
    {
     "name": "stdout",
     "output_type": "stream",
     "text": [
      "[32002, 32094, 32071, 32047, 32043, 32053, 32058, 32090, 32010, 32074, 32059, 32000, 32019, 32042, 32045, 32099, 32091, 32078, 32062, 32088, 32067, 32032, 32087, 32026, 32065, 32001, 32077, 32018, 32048, 32041, 32085, 32038, 32064, 32014, 32034, 32004, 32081, 32061, 32066, 32051, 32017, 32030, 32072, 32093, 32013, 32006, 32036, 32089, 32011, 32040, 32082, 32049, 32097, 32076, 32068, 32070, 32031, 32027, 32060, 32022, 32057, 32008, 32037, 32039]\n"
     ]
    }
   ],
   "source": [
    "encoded_base_tokens = [vocab[token] for token in base_tokens]\n",
    "print(encoded_base_tokens)"
   ]
  },
  {
   "cell_type": "code",
   "execution_count": 12,
   "metadata": {},
   "outputs": [],
   "source": [
    "encoded_base_tokens.append(1) #EOS token"
   ]
  },
  {
   "cell_type": "code",
   "execution_count": 13,
   "metadata": {},
   "outputs": [],
   "source": [
    "for param in encoder.parameters():\n",
    "    param.requires_grad = False"
   ]
  },
  {
   "cell_type": "code",
   "execution_count": 14,
   "metadata": {},
   "outputs": [],
   "source": [
    "encoder[0]._modules['auto_model']._modules['encoder']._modules['embed_tokens']._parameters['weight'].requires_grad = True"
   ]
  },
  {
   "cell_type": "code",
   "execution_count": 15,
   "metadata": {},
   "outputs": [],
   "source": [
    "text = \"\"\"Positional control of pneumatic manipulators for construction tasks\n",
    "This paper describes solutions that can be applied to pneumatic manipulator\n",
    "\tproblems in positioning, both for angle trajectories and for long\n",
    "\tlinear trajectories, used in construction tasks. Optimal positioning of\n",
    "\ta pneumatic manipulator along angle trajectories with minimum control\n",
    "\tenergy consumption is given. The implementation of the control system\n",
    "\tis presented. Control algorithms for a long linear trajectory\n",
    "\tmanipulator based on two-phase and three-phase motion modes of the\n",
    "\tend-effector are investigated. Conventional and fuzzy logic controls of\n",
    "\ta pneumatic manipulator were applied and experimental testing was\n",
    "\tcarried out. The obtained results allow widening the application range\n",
    "\tof pneumatic manipulators in construction, particularly in gantry type\n",
    "\tmachines\"\"\""
   ]
  },
  {
   "cell_type": "code",
   "execution_count": 16,
   "metadata": {},
   "outputs": [],
   "source": [
    "import tqdm"
   ]
  },
  {
   "cell_type": "code",
   "execution_count": 18,
   "metadata": {},
   "outputs": [
    {
     "data": {
      "text/plain": [
       "tensor([-3.4522e-02, -2.0345e-02,  4.4846e-02,  4.3781e-02,  6.6984e-03,\n",
       "        -1.8696e-02, -4.3338e-02,  1.8912e-02,  8.9696e-03,  2.7137e-03,\n",
       "         1.6950e-02, -2.0354e-02,  1.0852e-01,  1.3285e-02,  1.3685e-02,\n",
       "         2.7942e-02,  2.6128e-03, -1.5857e-02, -3.0513e-03,  4.2882e-02,\n",
       "        -1.8843e-02,  1.4864e-02, -3.9060e-02, -1.5590e-02, -2.5479e-02,\n",
       "         3.8258e-02,  3.9095e-03, -2.3293e-02, -2.8936e-02,  4.1718e-02,\n",
       "         4.9773e-02, -2.1919e-03, -7.3746e-03, -1.3982e-03, -6.4718e-02,\n",
       "         4.6749e-03, -1.7485e-02, -5.7901e-02, -2.5006e-02,  5.1150e-02,\n",
       "        -5.2957e-03, -5.9133e-02, -1.9317e-02,  3.6850e-02, -2.4994e-02,\n",
       "        -4.6451e-02, -7.1007e-03,  3.8157e-02, -4.1946e-03, -5.7547e-02,\n",
       "        -3.2545e-02, -3.8071e-02, -9.4392e-03, -3.3609e-02, -1.1708e-02,\n",
       "        -8.9969e-03, -1.1235e-02,  5.2750e-02,  9.6781e-03, -6.6007e-03,\n",
       "        -2.8215e-02,  5.3952e-02, -7.5387e-03,  4.9737e-03, -1.5257e-02,\n",
       "         4.3583e-02, -5.6956e-02, -4.3055e-02, -2.4292e-03, -2.3131e-02,\n",
       "         6.9705e-02, -5.4995e-02, -9.3348e-03, -1.3373e-03,  8.4164e-03,\n",
       "        -7.8141e-02,  9.5462e-03,  2.9117e-03,  7.6176e-02,  3.7518e-02,\n",
       "         8.6127e-02,  5.0086e-02,  1.0876e-03,  6.3239e-02,  2.4760e-03,\n",
       "        -2.3046e-02, -5.2855e-02, -9.7292e-04, -1.9679e-02,  1.7009e-02,\n",
       "         6.1714e-03, -8.4258e-03, -3.6636e-02,  1.2445e-02,  3.7397e-02,\n",
       "         1.7231e-02,  9.6336e-03, -1.7345e-02,  1.4192e-02,  2.1714e-02,\n",
       "        -1.7231e-02, -5.8553e-03, -1.0026e-02, -7.5116e-03,  1.0226e-01,\n",
       "        -2.0403e-02, -1.4215e-02, -1.8650e-02,  1.9215e-05, -6.9554e-04,\n",
       "        -4.0245e-02, -5.3167e-02, -2.7929e-02,  3.8795e-02, -5.4162e-03,\n",
       "        -6.5533e-02, -2.6220e-03, -1.1668e-02, -2.4398e-02,  3.2732e-02,\n",
       "         7.1443e-03, -2.3707e-02, -5.6992e-02, -2.5249e-02,  6.0968e-02,\n",
       "         2.6133e-02, -4.1029e-02, -7.3632e-02, -3.7236e-02,  7.1436e-02,\n",
       "         2.7532e-02,  5.2248e-02,  4.6512e-02, -1.2076e-02,  3.2583e-02,\n",
       "        -1.7328e-02, -3.5540e-02,  3.4792e-02,  4.3303e-02,  2.0233e-03,\n",
       "         3.6050e-02,  2.6376e-02,  1.6313e-02, -1.2425e-02,  6.1274e-03,\n",
       "         3.7029e-02, -5.4998e-02, -4.9331e-02,  3.2173e-02,  2.4914e-02,\n",
       "        -4.1733e-02, -1.7528e-02,  3.6717e-02,  1.0679e-01, -2.1891e-03,\n",
       "         8.7782e-05,  2.3599e-03, -1.0698e-02, -6.0159e-02,  3.9619e-02,\n",
       "        -5.0477e-02, -7.8271e-03,  4.7212e-02, -3.2813e-03,  2.2885e-02,\n",
       "         1.0899e-04, -1.7097e-02,  2.7366e-02, -1.6920e-02, -4.6862e-02,\n",
       "         3.9868e-02, -3.2519e-02,  5.7025e-02, -7.4806e-03,  3.3123e-02,\n",
       "        -3.7394e-02, -2.7504e-03, -3.2884e-02, -3.9853e-02, -4.1513e-02,\n",
       "        -7.4323e-03, -2.9052e-02,  1.7332e-02,  5.0570e-02, -2.8929e-03,\n",
       "         3.0982e-02, -4.3826e-02,  2.0428e-02,  2.2974e-02,  8.1178e-04,\n",
       "         1.6102e-02,  2.0456e-02,  5.1025e-02,  2.8742e-02, -4.0945e-03,\n",
       "         6.3448e-02,  2.8127e-03, -2.2429e-02,  1.2825e-03,  6.4324e-02,\n",
       "        -7.6389e-02,  6.0219e-03, -4.8520e-02,  2.0999e-02,  5.6151e-03,\n",
       "         1.6263e-02, -1.5231e-03, -3.2079e-04, -2.6216e-02, -5.3923e-02,\n",
       "         5.1075e-02, -1.0388e-02, -4.3641e-03, -3.4062e-02,  1.6147e-02,\n",
       "        -3.2041e-03, -8.7922e-04,  1.1291e-02,  5.6656e-02,  2.2583e-02,\n",
       "        -2.9313e-02,  1.0391e-01,  1.0652e-02, -4.4943e-02, -4.3881e-02,\n",
       "        -8.5779e-02, -2.5883e-02, -2.8171e-02, -7.5224e-04,  1.2225e-03,\n",
       "        -1.8611e-02,  1.0632e-02,  7.0027e-02,  2.3443e-02, -5.7195e-03,\n",
       "        -1.1020e-02, -5.4491e-02,  1.9642e-03, -3.1269e-02,  1.5084e-02,\n",
       "         6.1501e-02, -2.4009e-03, -3.0532e-02,  6.7169e-02,  8.6900e-02,\n",
       "        -6.1091e-03,  4.0971e-02, -8.4200e-03, -1.7495e-02,  6.1864e-02,\n",
       "        -4.5274e-02, -2.6147e-02,  1.8633e-02, -1.2122e-02,  8.1093e-02,\n",
       "        -2.3853e-02, -4.2600e-02,  2.5959e-02, -2.6521e-02, -6.8982e-02,\n",
       "        -8.7327e-02,  3.8763e-02,  1.7704e-02, -1.2391e-02,  1.1615e-02,\n",
       "        -6.6633e-03,  2.9704e-02,  3.8372e-02,  3.4266e-02, -2.0158e-02,\n",
       "         1.1609e-02,  2.4319e-02, -1.8556e-02, -7.5242e-02,  2.2450e-02,\n",
       "        -1.6297e-02,  1.8765e-02,  2.1277e-02, -1.4504e-02,  8.0949e-03,\n",
       "         2.5873e-02, -1.3077e-02, -2.8940e-02, -8.2117e-02,  1.0281e-03,\n",
       "        -1.9558e-02,  2.1541e-02,  8.9836e-03, -1.7208e-02, -9.6408e-02,\n",
       "         2.6177e-02, -1.5351e-03,  3.9459e-02,  3.6105e-02, -1.7499e-02,\n",
       "         3.9859e-02,  1.3878e-02,  5.9322e-02, -4.2789e-02, -1.5143e-02,\n",
       "        -3.2154e-03, -3.8980e-02,  1.4392e-02, -1.3889e-02,  2.6967e-02,\n",
       "         4.0509e-03, -2.7825e-03,  2.6016e-02, -1.5476e-02,  5.3341e-02,\n",
       "        -3.1357e-02, -2.3367e-02,  1.8496e-02, -3.9984e-02,  5.8043e-02,\n",
       "         4.2364e-03, -9.7490e-03, -1.4469e-02,  4.1586e-02,  1.1803e-02,\n",
       "         2.0011e-03,  1.0083e-02,  5.5263e-02,  2.7299e-02, -2.5119e-02,\n",
       "         2.5249e-02,  2.1122e-02, -5.7718e-02, -4.5847e-02,  1.8344e-02,\n",
       "        -2.3965e-02, -7.0240e-02,  2.2133e-02, -1.5370e-03, -6.2487e-02,\n",
       "        -3.1949e-02, -9.6944e-03, -2.0120e-02, -8.3271e-03,  6.9163e-02,\n",
       "         2.6883e-02, -5.4866e-02, -2.0015e-02,  6.6212e-02,  6.9379e-02,\n",
       "        -3.4026e-02, -3.0562e-02, -4.5325e-02, -2.2616e-02, -1.6953e-04,\n",
       "        -3.6082e-02,  1.0099e-02,  2.6209e-02, -5.3842e-02,  6.5986e-03,\n",
       "         6.9105e-02, -3.8893e-02,  8.8956e-03, -3.2283e-02, -3.8064e-02,\n",
       "         1.4099e-02, -4.8225e-02,  1.3878e-03, -3.9303e-02,  1.9263e-02,\n",
       "         4.5146e-02,  3.3913e-02,  1.7039e-02,  1.9724e-02, -6.2858e-02,\n",
       "         1.3250e-02,  2.4168e-02,  5.5489e-02,  3.5654e-02,  5.3153e-03,\n",
       "         4.7868e-02,  4.3796e-02,  5.3784e-02, -7.4866e-03,  2.7681e-02,\n",
       "         1.1126e-02, -7.0976e-02,  1.2564e-02,  4.7055e-02,  7.2901e-02,\n",
       "        -5.4156e-03, -1.5964e-02,  7.8098e-02, -2.7272e-02, -9.3508e-02,\n",
       "         2.7739e-02, -1.1080e-02, -1.3949e-02,  8.9152e-03,  2.4039e-02,\n",
       "        -8.4177e-02,  2.3511e-02,  2.0919e-02, -3.0283e-02,  6.2462e-02,\n",
       "        -4.2042e-02,  2.8997e-02, -4.6314e-02,  2.9405e-02, -2.8164e-02,\n",
       "         6.3192e-02, -9.4823e-03, -4.6918e-04,  2.5280e-02, -5.8803e-04,\n",
       "        -4.4724e-02, -2.6229e-02,  4.5906e-02, -7.8793e-03,  9.5059e-03,\n",
       "        -5.8970e-02,  6.7679e-03, -3.6863e-02,  3.5952e-03,  8.0448e-02,\n",
       "         1.7545e-02, -2.2413e-02,  8.2025e-02,  1.9955e-02,  7.2489e-03,\n",
       "         2.8623e-02, -1.8193e-02, -4.3207e-02,  1.0317e-01,  1.2500e-02,\n",
       "         1.8460e-02,  9.4498e-03, -3.9668e-02, -1.2533e-02,  1.7273e-02,\n",
       "        -1.1714e-02,  3.9948e-02, -3.4810e-02,  4.6958e-02,  3.0051e-02,\n",
       "        -4.0349e-02, -8.8098e-02,  1.4331e-03, -1.8030e-02,  1.4900e-02,\n",
       "         2.9196e-02,  5.5926e-03, -2.7505e-03,  5.4989e-02, -2.9189e-02,\n",
       "        -6.1574e-02, -2.9138e-02, -4.2124e-06, -6.8694e-03,  7.4811e-03,\n",
       "        -2.4624e-02,  1.5997e-02,  8.4842e-02,  1.0700e-02, -1.9144e-02,\n",
       "        -7.0017e-03,  1.2742e-02, -1.0263e-01,  3.6877e-03,  5.2625e-03,\n",
       "        -3.1698e-02,  7.7603e-02,  2.3845e-04, -7.6727e-03,  6.4352e-03,\n",
       "         1.6981e-02, -3.3698e-02, -3.8889e-02,  6.8214e-02, -4.5201e-02,\n",
       "        -8.1340e-03,  2.6267e-02, -2.1550e-02,  1.3769e-02, -2.3402e-02,\n",
       "         3.6712e-02,  2.9485e-02, -2.7290e-03,  2.1332e-02,  5.2219e-02,\n",
       "         3.0045e-02,  2.6758e-02,  1.1217e-02, -3.7344e-02, -5.5186e-02,\n",
       "        -3.4550e-02, -1.8159e-02, -6.3837e-02,  3.0933e-02, -8.6736e-03,\n",
       "        -6.7813e-02,  1.6600e-02, -5.8521e-02, -4.1895e-02,  1.9153e-02,\n",
       "        -4.7216e-02, -1.9063e-02, -4.7260e-02,  1.9111e-02,  1.4758e-02,\n",
       "        -1.9016e-02,  1.5400e-02,  1.8328e-03, -3.2315e-02, -2.4756e-03,\n",
       "         6.4445e-02,  4.5682e-02,  6.4457e-02, -4.7135e-02, -1.5711e-02,\n",
       "        -4.1891e-02, -3.8946e-02, -1.8854e-02, -1.4802e-02, -8.9779e-02,\n",
       "        -3.1712e-03,  3.9103e-02,  1.0826e-02, -5.2995e-02, -1.6318e-02,\n",
       "         2.5094e-02, -2.0334e-02,  4.6366e-02, -7.9919e-03,  1.1359e-02,\n",
       "        -8.4275e-03, -2.6599e-02,  2.1068e-02,  5.1403e-03,  5.1003e-02,\n",
       "         9.6356e-02,  4.5163e-03,  2.5558e-02, -8.4500e-03,  2.2772e-02,\n",
       "        -3.8865e-02,  7.6859e-02,  5.7634e-02, -6.3406e-02,  1.0431e-02,\n",
       "         9.8549e-04, -4.4171e-02,  6.9358e-04,  1.9023e-02,  2.7547e-02,\n",
       "        -2.3952e-02,  4.7871e-03, -5.6149e-02,  3.6061e-02,  2.5267e-02,\n",
       "        -4.6568e-02, -1.7412e-02,  2.0169e-02, -1.1156e-02, -4.1229e-03,\n",
       "         5.9538e-02, -1.2814e-02, -2.9712e-02, -3.0156e-02, -7.3075e-02,\n",
       "        -2.4480e-02,  3.4718e-02,  5.0284e-02, -7.7214e-05,  3.0425e-02,\n",
       "        -6.6396e-02, -9.2527e-02, -2.5727e-02, -4.5233e-02, -1.6618e-02,\n",
       "        -1.7305e-02,  2.7961e-02, -3.0642e-02, -8.6809e-03,  2.1723e-02,\n",
       "         6.1373e-03, -2.6249e-02, -7.7736e-02, -4.3942e-02,  6.1655e-03,\n",
       "        -2.9690e-02,  5.3735e-03,  5.3944e-03, -4.7347e-02,  6.9534e-02,\n",
       "        -2.1248e-02, -1.0614e-02,  4.9643e-03,  2.8076e-02,  1.9050e-02,\n",
       "        -3.6252e-02,  4.8618e-03, -9.6371e-04, -5.1602e-03,  8.3705e-03,\n",
       "        -9.6261e-03,  4.1029e-02, -1.0164e-02, -1.1228e-02,  2.6089e-02,\n",
       "         1.1996e-02, -7.4474e-03,  3.3515e-02, -3.3286e-02, -1.5053e-03,\n",
       "        -5.6442e-03, -3.4827e-02, -1.0358e-02,  1.4622e-02,  5.3682e-02,\n",
       "        -3.6097e-02, -3.7387e-02,  5.9230e-02,  5.6059e-02, -8.1038e-02,\n",
       "        -2.3072e-02,  1.9929e-03,  4.5878e-03, -1.1709e-02,  3.1434e-02,\n",
       "        -5.1759e-02, -2.8178e-02,  3.7426e-02, -3.7636e-02, -3.7170e-03,\n",
       "         2.6588e-02, -1.7423e-02,  1.5923e-02,  4.6457e-04,  4.3677e-02,\n",
       "        -1.9460e-03,  8.0274e-02,  4.6441e-02,  2.0497e-02,  4.2250e-02,\n",
       "         3.9617e-02,  1.9298e-03, -3.3836e-02, -2.0096e-02,  3.6566e-02,\n",
       "        -1.4983e-02,  1.5380e-02,  6.9218e-03,  2.1026e-02,  1.0413e-02,\n",
       "         2.0930e-02, -5.2820e-03,  2.9689e-02,  1.9516e-02,  2.2704e-02,\n",
       "        -1.6978e-03, -4.0007e-02, -6.2967e-02, -5.7322e-02,  4.2406e-02,\n",
       "         5.7329e-03,  2.5343e-02, -3.9199e-02, -8.3703e-03,  1.9743e-02,\n",
       "        -3.9513e-02,  9.1618e-03,  8.3995e-04, -5.5374e-02, -8.3448e-02,\n",
       "         4.4743e-02, -2.0553e-02, -2.5689e-02, -2.9590e-02, -2.2706e-02,\n",
       "        -1.3993e-02, -4.0566e-02, -1.4731e-02,  2.8325e-02,  5.5628e-02,\n",
       "        -2.5287e-02,  3.5342e-02,  2.3180e-02, -4.4227e-02,  5.5256e-03,\n",
       "         9.7085e-03,  8.8284e-03, -1.8662e-02,  6.0727e-04, -5.9224e-02,\n",
       "         2.7545e-02,  6.1158e-03,  4.6733e-02, -3.3796e-02,  3.1981e-02,\n",
       "        -1.5763e-02, -4.9215e-02,  5.2398e-02,  1.4701e-02, -4.7927e-02,\n",
       "        -2.1665e-02, -2.9239e-04, -2.7091e-02, -1.5129e-02,  2.5294e-02,\n",
       "        -3.3244e-02,  3.3616e-02,  5.1409e-02, -4.4086e-02,  3.5403e-02,\n",
       "         1.7762e-02,  1.9899e-02, -9.3279e-03,  6.8876e-03,  2.1408e-03,\n",
       "         4.0983e-03,  8.0288e-03,  2.4095e-02, -4.6378e-02, -5.6231e-02,\n",
       "         7.0666e-03, -3.6465e-02, -2.4965e-02,  1.5215e-02,  1.8083e-03,\n",
       "         7.1540e-03, -2.7516e-02,  5.9306e-03,  3.0352e-03,  1.4200e-02,\n",
       "         2.0676e-02,  4.3771e-03, -8.2579e-03,  2.5044e-02,  7.4668e-03,\n",
       "         5.9929e-02, -5.0527e-02,  6.1182e-03, -8.1261e-03,  1.3339e-02,\n",
       "         3.6075e-02, -2.0363e-02,  2.9635e-02, -5.6079e-03,  1.2629e-03,\n",
       "         3.7065e-02, -2.3358e-02, -5.4852e-02,  5.9200e-02, -4.6778e-02,\n",
       "         3.3897e-02,  7.0770e-03,  6.1876e-02,  2.5326e-02, -6.9725e-02,\n",
       "        -4.7935e-02, -5.3154e-02,  1.8639e-02, -1.5166e-03, -5.3319e-04,\n",
       "         6.8316e-03, -3.0803e-02, -3.0349e-02,  3.0539e-02, -1.5512e-02,\n",
       "         3.8510e-03, -3.2840e-02,  4.6328e-02], device='cuda:0')"
      ]
     },
     "execution_count": 18,
     "metadata": {},
     "output_type": "execute_result"
    }
   ],
   "source": [
    "target = encoder.encode(text, convert_to_tensor=True)\n",
    "target"
   ]
  },
  {
   "cell_type": "code",
   "execution_count": 21,
   "metadata": {},
   "outputs": [
    {
     "name": "stderr",
     "output_type": "stream",
     "text": [
      "  2%|▎         | 5/200 [00:00<00:08, 22.61it/s]"
     ]
    },
    {
     "name": "stdout",
     "output_type": "stream",
     "text": [
      "Epoch 0 Similarity 0.49744534492492676\n"
     ]
    },
    {
     "name": "stderr",
     "output_type": "stream",
     "text": [
      "  7%|▋         | 14/200 [00:00<00:06, 27.88it/s]"
     ]
    },
    {
     "name": "stdout",
     "output_type": "stream",
     "text": [
      "Epoch 10 Similarity 0.762125551700592\n"
     ]
    },
    {
     "name": "stderr",
     "output_type": "stream",
     "text": [
      " 13%|█▎        | 26/200 [00:00<00:06, 28.96it/s]"
     ]
    },
    {
     "name": "stdout",
     "output_type": "stream",
     "text": [
      "Epoch 20 Similarity 0.8755427598953247\n"
     ]
    },
    {
     "name": "stderr",
     "output_type": "stream",
     "text": [
      " 18%|█▊        | 35/200 [00:01<00:05, 29.24it/s]"
     ]
    },
    {
     "name": "stdout",
     "output_type": "stream",
     "text": [
      "Epoch 30 Similarity 0.9178289771080017\n"
     ]
    },
    {
     "name": "stderr",
     "output_type": "stream",
     "text": [
      " 22%|██▏       | 44/200 [00:01<00:05, 29.50it/s]"
     ]
    },
    {
     "name": "stdout",
     "output_type": "stream",
     "text": [
      "Epoch 40 Similarity 0.9375391602516174\n"
     ]
    },
    {
     "name": "stderr",
     "output_type": "stream",
     "text": [
      " 28%|██▊       | 56/200 [00:01<00:04, 29.69it/s]"
     ]
    },
    {
     "name": "stdout",
     "output_type": "stream",
     "text": [
      "Epoch 50 Similarity 0.9546868205070496\n"
     ]
    },
    {
     "name": "stderr",
     "output_type": "stream",
     "text": [
      " 32%|███▎      | 65/200 [00:02<00:04, 29.54it/s]"
     ]
    },
    {
     "name": "stdout",
     "output_type": "stream",
     "text": [
      "Epoch 60 Similarity 0.9563139081001282\n"
     ]
    },
    {
     "name": "stderr",
     "output_type": "stream",
     "text": [
      " 38%|███▊      | 75/200 [00:02<00:04, 29.66it/s]"
     ]
    },
    {
     "name": "stdout",
     "output_type": "stream",
     "text": [
      "Epoch 70 Similarity 0.9572295546531677\n"
     ]
    },
    {
     "name": "stderr",
     "output_type": "stream",
     "text": [
      " 42%|████▏     | 84/200 [00:02<00:03, 29.69it/s]"
     ]
    },
    {
     "name": "stdout",
     "output_type": "stream",
     "text": [
      "Epoch 80 Similarity 0.9667676091194153\n"
     ]
    },
    {
     "name": "stderr",
     "output_type": "stream",
     "text": [
      " 48%|████▊     | 96/200 [00:03<00:03, 29.82it/s]"
     ]
    },
    {
     "name": "stdout",
     "output_type": "stream",
     "text": [
      "Epoch 90 Similarity 0.9604896306991577\n"
     ]
    },
    {
     "name": "stderr",
     "output_type": "stream",
     "text": [
      " 52%|█████▎    | 105/200 [00:03<00:03, 29.78it/s]"
     ]
    },
    {
     "name": "stdout",
     "output_type": "stream",
     "text": [
      "Epoch 100 Similarity 0.9638795852661133\n"
     ]
    },
    {
     "name": "stderr",
     "output_type": "stream",
     "text": [
      " 57%|█████▋    | 114/200 [00:03<00:02, 29.55it/s]"
     ]
    },
    {
     "name": "stdout",
     "output_type": "stream",
     "text": [
      "Epoch 110 Similarity 0.9599021673202515\n"
     ]
    },
    {
     "name": "stderr",
     "output_type": "stream",
     "text": [
      " 64%|██████▎   | 127/200 [00:04<00:02, 29.85it/s]"
     ]
    },
    {
     "name": "stdout",
     "output_type": "stream",
     "text": [
      "Epoch 120 Similarity 0.9650313258171082\n"
     ]
    },
    {
     "name": "stderr",
     "output_type": "stream",
     "text": [
      " 68%|██████▊   | 137/200 [00:04<00:02, 29.91it/s]"
     ]
    },
    {
     "name": "stdout",
     "output_type": "stream",
     "text": [
      "Epoch 130 Similarity 0.9660426378250122\n"
     ]
    },
    {
     "name": "stderr",
     "output_type": "stream",
     "text": [
      " 74%|███████▎  | 147/200 [00:05<00:01, 30.05it/s]"
     ]
    },
    {
     "name": "stdout",
     "output_type": "stream",
     "text": [
      "Epoch 140 Similarity 0.9719964861869812\n"
     ]
    },
    {
     "name": "stderr",
     "output_type": "stream",
     "text": [
      " 77%|███████▋  | 154/200 [00:05<00:01, 29.96it/s]"
     ]
    },
    {
     "name": "stdout",
     "output_type": "stream",
     "text": [
      "Epoch 150 Similarity 0.9674225449562073\n"
     ]
    },
    {
     "name": "stderr",
     "output_type": "stream",
     "text": [
      " 82%|████████▎ | 165/200 [00:05<00:01, 29.92it/s]"
     ]
    },
    {
     "name": "stdout",
     "output_type": "stream",
     "text": [
      "Epoch 160 Similarity 0.9700614213943481\n"
     ]
    },
    {
     "name": "stderr",
     "output_type": "stream",
     "text": [
      " 88%|████████▊ | 175/200 [00:05<00:00, 29.92it/s]"
     ]
    },
    {
     "name": "stdout",
     "output_type": "stream",
     "text": [
      "Epoch 170 Similarity 0.9550883173942566\n"
     ]
    },
    {
     "name": "stderr",
     "output_type": "stream",
     "text": [
      " 92%|█████████▎| 185/200 [00:06<00:00, 29.94it/s]"
     ]
    },
    {
     "name": "stdout",
     "output_type": "stream",
     "text": [
      "Epoch 180 Similarity 0.9571087956428528\n"
     ]
    },
    {
     "name": "stderr",
     "output_type": "stream",
     "text": [
      " 98%|█████████▊| 195/200 [00:06<00:00, 29.86it/s]"
     ]
    },
    {
     "name": "stdout",
     "output_type": "stream",
     "text": [
      "Epoch 190 Similarity 0.9681198596954346\n"
     ]
    },
    {
     "name": "stderr",
     "output_type": "stream",
     "text": [
      "100%|██████████| 200/200 [00:06<00:00, 29.41it/s]\n"
     ]
    },
    {
     "data": {
      "image/png": "[encoded data removed]",
      "text/plain": [
       "<Figure size 640x480 with 1 Axes>"
      ]
     },
     "metadata": {},
     "output_type": "display_data"
    }
   ],
   "source": [
    "from torch import nn\n",
    "import torch\n",
    "import torch.optim as optim\n",
    "from torch.nn import CosineSimilarity\n",
    "\n",
    "\n",
    "assert any(p.requires_grad for p in encoder.parameters())\n",
    "\n",
    "optimizer = optim.Adam(encoder.parameters(), lr=1)\n",
    "from torch.optim.lr_scheduler import CosineAnnealingLR\n",
    "scheduler = CosineAnnealingLR(optimizer, T_max=100, eta_min=0.0001)\n",
    "criterion = nn.CosineEmbeddingLoss()\n",
    "input_ids = torch.tensor(encoded_base_tokens).unsqueeze(0).to('cuda')\n",
    "attention_mask = torch.ones_like(input_ids).to('cuda')\n",
    "\n",
    "best = float(\"inf\")\n",
    "best_embedding = None\n",
    "sims = []\n",
    "encoder.train()\n",
    "for epoch in tqdm.tqdm(range(200)):\n",
    "    optimizer.zero_grad()\n",
    "    output = encoder({\n",
    "        \"input_ids\": input_ids,\n",
    "        \"attention_mask\": attention_mask,\n",
    "    })[\"sentence_embedding\"]\n",
    "    \n",
    "    loss = criterion(output.squeeze(), target, torch.tensor(1.0))\n",
    "    loss.backward()\n",
    "    # set grad of non-new token to 0\n",
    "    # all ids except new_token_id\n",
    "    non_new_token_ids = [i for i in range(len(tokenizer.vocab)) if i not in encoded_base_tokens]\n",
    "    new_token_ids = [i for i in range(len(tokenizer.vocab)) if i in encoded_base_tokens]\n",
    "    encoder[0]._modules[\"auto_model\"]._modules[\"encoder\"]._modules[\n",
    "            \"embed_tokens\"\n",
    "        ]._parameters[\"weight\"].grad[non_new_token_ids] = 0\n",
    "\n",
    "    optimizer.step()\n",
    "    scheduler.step()\n",
    "    sims.append(1 - loss.item())\n",
    "\n",
    "    if loss.item() < best:\n",
    "        best = loss.item()\n",
    "        best_embedding = encoder[0]._modules[\"auto_model\"]._modules[\"encoder\"]._modules[\n",
    "            \"embed_tokens\"\n",
    "        ]._parameters[\"weight\"].data[new_token_ids].cpu().numpy()\n",
    "    if epoch % 10 == 0:\n",
    "        print(f\"Epoch {epoch} Similarity {1 - loss.item()}\")\n",
    "import matplotlib.pyplot as plt\n",
    "plt.plot(sims)\n",
    "plt.show()"
   ]
  },
  {
   "cell_type": "code",
   "execution_count": 32,
   "metadata": {},
   "outputs": [
    {
     "name": "stdout",
     "output_type": "stream",
     "text": [
      "tensor([[32002, 32094, 32071, 32047, 32043, 32053, 32058, 32090, 32010, 32074,\n",
      "         32059, 32000, 32019, 32042, 32045, 32099, 32091, 32078, 32062, 32088,\n",
      "         32067, 32032, 32087, 32026, 32065, 32001, 32077, 32018, 32048, 32041,\n",
      "         32085, 32038, 32064, 32014, 32034, 32004, 32081, 32061, 32066, 32051,\n",
      "         32017, 32030, 32072, 32093, 32013, 32006, 32036, 32089, 32011, 32040,\n",
      "         32082, 32049, 32097, 32076, 32068, 32070, 32031, 32027, 32060, 32022,\n",
      "         32057, 32008, 32037, 32039,     1]], device='cuda:0')\n"
     ]
    }
   ],
   "source": [
    "print(input_ids)"
   ]
  },
  {
   "cell_type": "code",
   "execution_count": 53,
   "metadata": {},
   "outputs": [
    {
     "name": "stderr",
     "output_type": "stream",
     "text": [
      "100%|██████████| 32100/32100 [01:19<00:00, 401.66it/s]\n"
     ]
    }
   ],
   "source": [
    "disc_tokens = [None for _ in encoded_base_tokens]\n",
    "cos_sims = [float('-inf') for _ in encoded_base_tokens]\n",
    "inv_vocab = {v: k for k,v in vocab.items()}\n",
    "for token in tqdm.tqdm(range(len(vocab))):\n",
    "    token_embedding = encoder[0]._modules[\"auto_model\"]._modules[\"encoder\"]._modules[\n",
    "            \"embed_tokens\"\n",
    "        ]._parameters[\"weight\"].data[token]\n",
    "    if '<extra_id' in inv_vocab[token] or token == 1:\n",
    "        continue\n",
    "    for i, special_token in enumerate(encoded_base_tokens):\n",
    "        special_token_embedding = encoder[0]._modules[\"auto_model\"]._modules[\"encoder\"]._modules[\n",
    "            \"embed_tokens\"\n",
    "        ]._parameters[\"weight\"].data[special_token]\n",
    "        cs = CosineSimilarity()(token_embedding.unsqueeze(0), special_token_embedding.unsqueeze(0)).item()\n",
    "        if cs > cos_sims[i]:\n",
    "            cos_sims[i] = cs\n",
    "            disc_tokens[i] = token"
   ]
  },
  {
   "cell_type": "code",
   "execution_count": 54,
   "metadata": {},
   "outputs": [
    {
     "name": "stdout",
     "output_type": "stream",
     "text": [
      "[6385, 5945, 6385, 6385, 6385, 6385, 6385, 20479, 6385, 593, 6385, 6385, 6385, 6385, 6385, 85, 13129, 634, 6385, 25371, 6385, 6385, 7762, 6385, 8853, 6385, 1853, 6385, 6385, 6385, 11285, 8853, 8853, 8853, 6385, 6385, 665, 8853, 6385, 8853, 8853, 6385, 15063, 9139, 6385, 6385, 6385, 17018, 6385, 6385, 18427, 6385, 9, 19552, 6385, 6385, 6385, 8853, 6385, 6385, 8853, 6385, 8853, 6385, 345]\n",
      "tensor([0.5779], device='cuda:0', grad_fn=<SumBackward1>)\n",
      "▁Its▁Gen▁Its▁Its▁Its▁Its▁Its▁internațional▁Its▁level▁Its▁Its▁Its▁Its▁Itsà▁WideThe▁Its▁duminică▁Its▁Its▁Cons▁Its▁mes▁Its▁THE▁Its▁Its▁Itsoferă▁mes▁mes▁mes▁Its▁Its▁einem▁mes▁Its▁mes▁mes▁Its▁cazuri▁Organization▁Its▁Its▁Its▁inima▁Its▁Its▁viaţa▁ItsaEAD▁Its▁Its▁Its▁mes▁Its▁Its▁mes▁Its▁mes▁ItsP\n"
     ]
    }
   ],
   "source": [
    "print(disc_tokens)\n",
    "\n",
    "disc_output = encoder({\n",
    "        \"input_ids\": torch.tensor(disc_tokens).unsqueeze(0).to('cuda'),\n",
    "        \"attention_mask\": attention_mask,\n",
    "    })[\"sentence_embedding\"]\n",
    "\n",
    "print(CosineSimilarity()(target, disc_output))\n",
    "\n",
    "def get_tokens(enc_text):\n",
    "    tokens = [inv_vocab[item] for item in enc_text]\n",
    "    return tokens\n",
    "print(\"\".join(get_tokens(disc_tokens)))"
   ]
  },
  {
   "cell_type": "code",
   "execution_count": null,
   "metadata": {},
   "outputs": [],
   "source": []
  }
 ],
 "metadata": {
  "kernelspec": {
   "display_name": "env",
   "language": "python",
   "name": "python3"
  },
  "language_info": {
   "codemirror_mode": {
    "name": "ipython",
    "version": 3
   },
   "file_extension": ".py",
   "mimetype": "text/x-python",
   "name": "python",
   "nbconvert_exporter": "python",
   "pygments_lexer": "ipython3",
   "version": "3.11.6"
  }
 },
 "nbformat": 4,
 "nbformat_minor": 2
}
