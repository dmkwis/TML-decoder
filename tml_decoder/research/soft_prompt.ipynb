{
 "cells": [
  {
   "cell_type": "code",
   "execution_count": 126,
   "metadata": {},
   "outputs": [],
   "source": [
    "from sentence_transformers import SentenceTransformer\n",
    "\n",
    "model = \"sentence-transformers/all-MiniLM-L6-v2\"\n",
    "\n",
    "\n",
    "model = SentenceTransformer(model)\n",
    "text = \"\"\"Positional control of pneumatic manipulators for construction tasks\n",
    "This paper describes solutions that can be applied to pneumatic manipulator\n",
    "\tproblems in positioning, both for angle trajectories and for long\n",
    "\tlinear trajectories, used in construction tasks. Optimal positioning of\n",
    "\ta pneumatic manipulator along angle trajectories with minimum control\n",
    "\tenergy consumption is given. The implementation of the control system\n",
    "\tis presented. Control algorithms for a long linear trajectory\n",
    "\tmanipulator based on two-phase and three-phase motion modes of the\n",
    "\tend-effector are investigated. Conventional and fuzzy logic controls of\n",
    "\ta pneumatic manipulator were applied and experimental testing was\n",
    "\tcarried out. The obtained results allow widening the application range\n",
    "\tof pneumatic manipulators in construction, particularly in gantry type\n",
    "\tmachines\"\"\"\n",
    " \n",
    "tokenizer = model.tokenizer\n",
    "from tqdm import tqdm"
   ]
  },
  {
   "cell_type": "code",
   "execution_count": 127,
   "metadata": {},
   "outputs": [],
   "source": [
    "target = model.encode(text, convert_to_tensor=True)"
   ]
  },
  {
   "cell_type": "code",
   "execution_count": 128,
   "metadata": {},
   "outputs": [
    {
     "name": "stderr",
     "output_type": "stream",
     "text": [
      "  0%|          | 0/30522 [00:00<?, ?it/s]"
     ]
    },
    {
     "name": "stderr",
     "output_type": "stream",
     "text": [
      "100%|██████████| 30522/30522 [02:51<00:00, 178.13it/s]\n"
     ]
    }
   ],
   "source": [
    "import torch\n",
    "from torch.nn import CosineSimilarity\n",
    "\n",
    "naive_best_token = None\n",
    "naive_best_cossim = float(\"-inf\")\n",
    "\n",
    "cossims = []\n",
    "\n",
    "model.eval()\n",
    "model.cuda()\n",
    "for token in tqdm(range(len(tokenizer.vocab))):\n",
    "    with torch.no_grad():\n",
    "        input_ids = torch.tensor([101, token, 102]).unsqueeze(0).to(model.device)\n",
    "        attention_mask = input_ids != 0\n",
    "        output = model({\n",
    "            \"input_ids\": input_ids,\n",
    "            \"attention_mask\": attention_mask\n",
    "        })[\"sentence_embedding\"]\n",
    "        cossim = CosineSimilarity()(output, target)\n",
    "        cossims.append(cossim)\n",
    "        if cossim > naive_best_cossim:\n",
    "            naive_best_cossim = cossim\n",
    "            naive_best_token = token\n",
    "import numpy as np\n",
    "cossims = [\n",
    "    cossim.item()\n",
    "    for cossim in cossims\n",
    "]"
   ]
  },
  {
   "cell_type": "code",
   "execution_count": 129,
   "metadata": {},
   "outputs": [
    {
     "data": {
      "text/plain": [
       "'positioning'"
      ]
     },
     "execution_count": 129,
     "metadata": {},
     "output_type": "execute_result"
    }
   ],
   "source": [
    "tokenizer.decode(np.array(cossims).argmax())"
   ]
  },
  {
   "cell_type": "code",
   "execution_count": 130,
   "metadata": {},
   "outputs": [
    {
     "name": "stdout",
     "output_type": "stream",
     "text": [
      "0.31916874647140503\n"
     ]
    }
   ],
   "source": [
    "output = model.encode(tokenizer.decode(np.array(cossims).argmax()))\n",
    "print(CosineSimilarity()(torch.Tensor(output).cuda().unsqueeze(0), target.unsqueeze(0)).item())"
   ]
  },
  {
   "cell_type": "code",
   "execution_count": 132,
   "metadata": {},
   "outputs": [],
   "source": [
    "unused_token = next(\n",
    "    k for k, v in tokenizer.vocab.items()\n",
    "    if \"[unused\" in k)\n",
    "unused_token_id = tokenizer.vocab[unused_token]\n",
    "new_token_id = unused_token_id"
   ]
  },
  {
   "cell_type": "code",
   "execution_count": 133,
   "metadata": {},
   "outputs": [
    {
     "name": "stderr",
     "output_type": "stream",
     "text": [
      "  1%|          | 2/200 [00:00<00:32,  6.12it/s]"
     ]
    },
    {
     "name": "stdout",
     "output_type": "stream",
     "text": [
      "Epoch 0 Similarity -0.14152312278747559\n"
     ]
    },
    {
     "name": "stderr",
     "output_type": "stream",
     "text": [
      "  8%|▊         | 16/200 [00:00<00:05, 31.68it/s]"
     ]
    },
    {
     "name": "stdout",
     "output_type": "stream",
     "text": [
      "Epoch 10 Similarity 0.4470056891441345\n"
     ]
    },
    {
     "name": "stderr",
     "output_type": "stream",
     "text": [
      " 13%|█▎        | 26/200 [00:00<00:04, 37.11it/s]"
     ]
    },
    {
     "name": "stdout",
     "output_type": "stream",
     "text": [
      "Epoch 20 Similarity 0.5592376589775085\n"
     ]
    },
    {
     "name": "stderr",
     "output_type": "stream",
     "text": [
      " 18%|█▊        | 36/200 [00:01<00:04, 40.82it/s]"
     ]
    },
    {
     "name": "stdout",
     "output_type": "stream",
     "text": [
      "Epoch 30 Similarity 0.520780086517334\n"
     ]
    },
    {
     "name": "stderr",
     "output_type": "stream",
     "text": [
      " 23%|██▎       | 46/200 [00:01<00:03, 42.28it/s]"
     ]
    },
    {
     "name": "stdout",
     "output_type": "stream",
     "text": [
      "Epoch 40 Similarity 0.6202535629272461\n"
     ]
    },
    {
     "name": "stderr",
     "output_type": "stream",
     "text": [
      " 28%|██▊       | 56/200 [00:01<00:03, 40.86it/s]"
     ]
    },
    {
     "name": "stdout",
     "output_type": "stream",
     "text": [
      "Epoch 50 Similarity 0.5875903367996216\n"
     ]
    },
    {
     "name": "stderr",
     "output_type": "stream",
     "text": [
      " 33%|███▎      | 66/200 [00:01<00:03, 40.95it/s]"
     ]
    },
    {
     "name": "stdout",
     "output_type": "stream",
     "text": [
      "Epoch 60 Similarity 0.6064719557762146\n"
     ]
    },
    {
     "name": "stderr",
     "output_type": "stream",
     "text": [
      " 38%|███▊      | 76/200 [00:02<00:02, 42.26it/s]"
     ]
    },
    {
     "name": "stdout",
     "output_type": "stream",
     "text": [
      "Epoch 70 Similarity 0.6483274698257446\n"
     ]
    },
    {
     "name": "stderr",
     "output_type": "stream",
     "text": [
      " 43%|████▎     | 86/200 [00:02<00:02, 42.86it/s]"
     ]
    },
    {
     "name": "stdout",
     "output_type": "stream",
     "text": [
      "Epoch 80 Similarity 0.611094057559967\n"
     ]
    },
    {
     "name": "stderr",
     "output_type": "stream",
     "text": [
      " 48%|████▊     | 96/200 [00:02<00:02, 41.78it/s]"
     ]
    },
    {
     "name": "stdout",
     "output_type": "stream",
     "text": [
      "Epoch 90 Similarity 0.6451724767684937\n"
     ]
    },
    {
     "name": "stderr",
     "output_type": "stream",
     "text": [
      " 53%|█████▎    | 106/200 [00:02<00:02, 43.19it/s]"
     ]
    },
    {
     "name": "stdout",
     "output_type": "stream",
     "text": [
      "Epoch 100 Similarity 0.6182727217674255\n"
     ]
    },
    {
     "name": "stderr",
     "output_type": "stream",
     "text": [
      " 58%|█████▊    | 116/200 [00:03<00:02, 41.77it/s]"
     ]
    },
    {
     "name": "stdout",
     "output_type": "stream",
     "text": [
      "Epoch 110 Similarity 0.622785210609436\n"
     ]
    },
    {
     "name": "stderr",
     "output_type": "stream",
     "text": [
      " 63%|██████▎   | 126/200 [00:03<00:01, 40.83it/s]"
     ]
    },
    {
     "name": "stdout",
     "output_type": "stream",
     "text": [
      "Epoch 120 Similarity 0.6405796408653259\n"
     ]
    },
    {
     "name": "stderr",
     "output_type": "stream",
     "text": [
      " 68%|██████▊   | 136/200 [00:03<00:01, 42.22it/s]"
     ]
    },
    {
     "name": "stdout",
     "output_type": "stream",
     "text": [
      "Epoch 130 Similarity 0.5988255739212036\n"
     ]
    },
    {
     "name": "stderr",
     "output_type": "stream",
     "text": [
      " 73%|███████▎  | 146/200 [00:03<00:01, 40.96it/s]"
     ]
    },
    {
     "name": "stdout",
     "output_type": "stream",
     "text": [
      "Epoch 140 Similarity 0.6375641226768494\n"
     ]
    },
    {
     "name": "stderr",
     "output_type": "stream",
     "text": [
      " 78%|███████▊  | 156/200 [00:04<00:01, 41.86it/s]"
     ]
    },
    {
     "name": "stdout",
     "output_type": "stream",
     "text": [
      "Epoch 150 Similarity 0.6507032513618469\n"
     ]
    },
    {
     "name": "stderr",
     "output_type": "stream",
     "text": [
      " 83%|████████▎ | 166/200 [00:04<00:00, 41.17it/s]"
     ]
    },
    {
     "name": "stdout",
     "output_type": "stream",
     "text": [
      "Epoch 160 Similarity 0.6407625079154968\n"
     ]
    },
    {
     "name": "stderr",
     "output_type": "stream",
     "text": [
      " 88%|████████▊ | 176/200 [00:04<00:00, 39.29it/s]"
     ]
    },
    {
     "name": "stdout",
     "output_type": "stream",
     "text": [
      "Epoch 170 Similarity 0.6572238206863403\n"
     ]
    },
    {
     "name": "stderr",
     "output_type": "stream",
     "text": [
      " 93%|█████████▎| 186/200 [00:04<00:00, 40.22it/s]"
     ]
    },
    {
     "name": "stdout",
     "output_type": "stream",
     "text": [
      "Epoch 180 Similarity 0.6688412427902222\n"
     ]
    },
    {
     "name": "stderr",
     "output_type": "stream",
     "text": [
      " 98%|█████████▊| 196/200 [00:04<00:00, 41.52it/s]"
     ]
    },
    {
     "name": "stdout",
     "output_type": "stream",
     "text": [
      "Epoch 190 Similarity 0.6465122699737549\n"
     ]
    },
    {
     "name": "stderr",
     "output_type": "stream",
     "text": [
      "100%|██████████| 200/200 [00:05<00:00, 39.25it/s]\n"
     ]
    },
    {
     "data": {
      "image/png": "[encoded data removed]",
      "text/plain": [
       "<Figure size 640x480 with 1 Axes>"
      ]
     },
     "metadata": {},
     "output_type": "display_data"
    }
   ],
   "source": [
    "from torch import nn\n",
    "import torch\n",
    "import torch.optim as optim\n",
    "# import cosine similarity \n",
    "from torch.nn import CosineSimilarity\n",
    "\n",
    "for param in model.parameters():\n",
    "    param.requires_grad = False\n",
    "\n",
    "for p in model[0].auto_model.embeddings.word_embeddings.parameters():\n",
    "    p.requires_grad = True\n",
    "assert any(p.requires_grad for p in model.parameters())\n",
    "\n",
    "optimizer = optim.Adam(model.parameters(), lr=1)\n",
    "# scheduler - cosine annealing\n",
    "from torch.optim.lr_scheduler import CosineAnnealingLR\n",
    "scheduler = CosineAnnealingLR(optimizer, T_max=100, eta_min=0.0001)\n",
    "criterion = nn.CosineEmbeddingLoss()\n",
    "input_ids = torch.tensor([101, new_token_id, 102]).unsqueeze(0)\n",
    "attention_mask = input_ids != 0\n",
    "model = model.to(\"cuda\")\n",
    "input_ids = input_ids.to(model.device)\n",
    "attention_mask = attention_mask.to(model.device)\n",
    "\n",
    "best = float(\"inf\")\n",
    "best_embedding = None\n",
    "model.train()\n",
    "sims = []\n",
    "for epoch in tqdm(range(200)):\n",
    "    optimizer.zero_grad()\n",
    "    output = model({\n",
    "        \"input_ids\": input_ids,\n",
    "        \"attention_mask\": attention_mask,\n",
    "    })[\"sentence_embedding\"]\n",
    "    \n",
    "    loss = criterion(output.squeeze(), target, torch.tensor(1.0))\n",
    "    loss.backward()\n",
    "    # set grad of non-new token to 0\n",
    "    # all ids except new_token_id\n",
    "    non_new_token_ids = [i for i in range(len(tokenizer.vocab)) if i != new_token_id]\n",
    "    model[0].auto_model.embeddings.word_embeddings.weight.grad[non_new_token_ids] = 0\n",
    "\n",
    "    optimizer.step()\n",
    "    scheduler.step()\n",
    "    sims.append(1 - loss.item())\n",
    "\n",
    "    if loss.item() < best:\n",
    "        best = loss.item()\n",
    "        best_embedding = model[0].auto_model.embeddings.word_embeddings.weight.data[new_token_id].cpu().numpy()\n",
    "    if epoch % 10 == 0:\n",
    "        print(f\"Epoch {epoch} Similarity {1 - loss.item()}\")\n",
    "import matplotlib.pyplot as plt\n",
    "plt.plot(sims)\n",
    "plt.show()"
   ]
  },
  {
   "cell_type": "code",
   "execution_count": 134,
   "metadata": {},
   "outputs": [
    {
     "name": "stderr",
     "output_type": "stream",
     "text": [
      "100%|██████████| 30522/30522 [00:03<00:00, 8868.31it/s]\n"
     ]
    }
   ],
   "source": [
    "model.eval()\n",
    "\n",
    "# get closest tokens\n",
    "result_embedding = model[0].auto_model.embeddings.word_embeddings.weight.data[new_token_id].cpu().numpy()\n",
    "cossims = []\n",
    "for token in tqdm(range(len(tokenizer.vocab))):\n",
    "    token_embedding = model[0].auto_model.embeddings.word_embeddings.weight.data[token].cpu().numpy()\n",
    "    cossims.append(CosineSimilarity()(torch.Tensor(token_embedding).unsqueeze(0), torch.Tensor(result_embedding).unsqueeze(0)).item())"
   ]
  },
  {
   "cell_type": "code",
   "execution_count": 135,
   "metadata": {},
   "outputs": [
    {
     "name": "stdout",
     "output_type": "stream",
     "text": [
      "['[unused179]', 'optimal', 'situations', 'crossbow', 'robust', 'stresses', 'pendulum', 'optimization', 'chaplin', 'problem']\n"
     ]
    }
   ],
   "source": [
    "# get 10 best\n",
    "import numpy as np\n",
    "best_tokens = np.array(cossims).argsort()[-10:][::-1]\n",
    "best_tokens = [tokenizer.decode([token]) for token in best_tokens]\n",
    "print(best_tokens)"
   ]
  },
  {
   "cell_type": "code",
   "execution_count": 143,
   "metadata": {},
   "outputs": [
    {
     "name": "stdout",
     "output_type": "stream",
     "text": [
      "Token: optimization Similarity: 0.16684786975383759\n",
      "Token: crossbow Similarity: 0.16074563562870026\n",
      "Token: pendulum Similarity: 0.14771604537963867\n",
      "Token: chaplin Similarity: 0.12216611206531525\n",
      "Token: stresses Similarity: 0.06618937849998474\n",
      "Token: situations Similarity: 0.05733662471175194\n",
      "Token: optimal Similarity: 0.03995447978377342\n",
      "Token: robust Similarity: 0.016271546483039856\n",
      "Token: problem Similarity: -0.0335124246776104\n",
      "Token: [unused179] Similarity: -0.17594529688358307\n"
     ]
    }
   ],
   "source": [
    "def cosim(a, b):\n",
    "    return np.dot(a, b) / (np.linalg.norm(a) * np.linalg.norm(b))\n",
    "# get new_token_id embedding\n",
    "result_embedding = model[0].auto_model.embeddings.word_embeddings.weight.data[new_token_id].cpu().numpy()\n",
    "results = [\n",
    "    cosim(model.encode(best_token), model.encode(text))\n",
    "    for best_token in best_tokens\n",
    "]\n",
    "indices = np.array(results).argsort()[::-1]\n",
    "\n",
    "for i in indices:\n",
    "    print(f\"Token: {best_tokens[i]} Similarity: {results[i]}\")"
   ]
  },
  {
   "cell_type": "code",
   "execution_count": 139,
   "metadata": {},
   "outputs": [
    {
     "name": "stdout",
     "output_type": "stream",
     "text": [
      "0.31916875\n"
     ]
    }
   ],
   "source": [
    "print(cosim(model.encode(text), model.encode(\"positioning\")))"
   ]
  }
 ],
 "metadata": {
  "kernelspec": {
   "display_name": "Python 3 (ipykernel)",
   "language": "python",
   "name": "python3"
  },
  "language_info": {
   "codemirror_mode": {
    "name": "ipython",
    "version": 3
   },
   "file_extension": ".py",
   "mimetype": "text/x-python",
   "name": "python",
   "nbconvert_exporter": "python",
   "pygments_lexer": "ipython3",
   "version": "3.11.5"
  }
 },
 "nbformat": 4,
 "nbformat_minor": 4
}
