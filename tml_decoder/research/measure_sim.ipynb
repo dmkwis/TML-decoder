{
 "cells": [
  {
   "cell_type": "code",
   "execution_count": 2,
   "metadata": {},
   "outputs": [
    {
     "data": {
      "text/plain": [
       "[-0.023007043, -0.023007043, -0.013385765]"
      ]
     },
     "execution_count": 2,
     "metadata": {},
     "output_type": "execute_result"
    }
   ],
   "source": [
    "from sentence_transformers import SentenceTransformer\n",
    "\n",
    "model = \"sentence-transformers/all-MiniLM-L6-v2\"\n",
    "\n",
    "\n",
    "model = SentenceTransformer(model)\n",
    "text = \"\"\"Positional control of pneumatic manipulators for construction tasks\n",
    "This paper describes solutions that can be applied to pneumatic manipulator\n",
    "\tproblems in positioning, both for angle trajectories and for long\n",
    "\tlinear trajectories, used in construction tasks. Optimal positioning of\n",
    "\ta pneumatic manipulator along angle trajectories with minimum control\n",
    "\tenergy consumption is given. The implementation of the control system\n",
    "\tis presented. Control algorithms for a long linear trajectory\n",
    "\tmanipulator based on two-phase and three-phase motion modes of the\n",
    "\tend-effector are investigated. Conventional and fuzzy logic controls of\n",
    "\ta pneumatic manipulator were applied and experimental testing was\n",
    "\tcarried out. The obtained results allow widening the application range\n",
    "\tof pneumatic manipulators in construction, particularly in gantry type\n",
    "\tmachines\"\"\"\n",
    "target = model.encode(text)\n",
    "\n",
    "weird_texts = ['This.\\n\\n,\\n\\n,\\n\\n\\n,\\n\\n\\n.\\n', 'This.\\n\\n,\\n\\n,\\n\\n\\n,\\n\\n\\n.\\n\\n', 'This.\\n\\n,\\n\\n,\\n\\n\\n,\\n\\n\\n..']\n",
    "weird_encs = [model.encode(text) for text in weird_texts]\n",
    "cos_sims = [target @ weird_enc for weird_enc in weird_encs]\n",
    "cos_sims"
   ]
  },
  {
   "cell_type": "code",
   "execution_count": 4,
   "metadata": {},
   "outputs": [
    {
     "name": "stdout",
     "output_type": "stream",
     "text": [
      "(0, 'a')\n",
      "(1, 'b')\n",
      "(2, 'c')\n",
      "(3, 'd')\n"
     ]
    }
   ],
   "source": [
    "from queue import PriorityQueue\n",
    "\n",
    "pq = PriorityQueue()\n",
    "pq.put((0, \"a\"))\n",
    "pq.put((1, \"b\"))\n",
    "pq.put((2, \"c\"))\n",
    "pq.put((3, \"d\"))\n",
    "while not pq.empty():\n",
    "    res = pq.get()\n",
    "    print(res)"
   ]
  },
  {
   "cell_type": "code",
   "execution_count": null,
   "metadata": {},
   "outputs": [],
   "source": []
  }
 ],
 "metadata": {
  "kernelspec": {
   "display_name": "TMLenv",
   "language": "python",
   "name": "python3"
  },
  "language_info": {
   "codemirror_mode": {
    "name": "ipython",
    "version": 3
   },
   "file_extension": ".py",
   "mimetype": "text/x-python",
   "name": "python",
   "nbconvert_exporter": "python",
   "pygments_lexer": "ipython3",
   "version": "3.10.12"
  }
 },
 "nbformat": 4,
 "nbformat_minor": 2
}
